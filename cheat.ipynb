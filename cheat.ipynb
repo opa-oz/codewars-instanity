{
 "cells": [
  {
   "cell_type": "code",
   "id": "initial_id",
   "metadata": {
    "collapsed": true,
    "ExecuteTime": {
     "end_time": "2024-05-27T03:36:04.520198Z",
     "start_time": "2024-05-27T03:36:04.509690Z"
    }
   },
   "source": [
    "def valid_ISBN10(isbn):\n",
    "    if len(isbn) != 10:\n",
    "        return False\n",
    "    import re\n",
    "\n",
    "    m = re.match('^[0-9][0-9]{8}[0-9X]$', isbn)\n",
    "\n",
    "    if not m:\n",
    "        return False\n",
    "\n",
    "    agg = 0\n",
    "    for i in range(0, len(isbn)):\n",
    "        char = isbn[i]\n",
    "        if char == 'X':\n",
    "            char = '10'\n",
    "        agg += int(char, 10) * (i + 1)\n",
    "\n",
    "    return (agg % 11) == 0\n",
    "\n",
    "\n",
    "assert valid_ISBN10('1112223339'), '1112223339'\n",
    "assert valid_ISBN10('048665088X'), '048665088X'\n",
    "assert valid_ISBN10('1293000000'), '1293000000'\n",
    "assert valid_ISBN10('1234554321'), '1234554321'\n",
    "assert not valid_ISBN10('1234512345'), '1234512345'\n",
    "assert not valid_ISBN10('1293'), '1293'\n",
    "assert not valid_ISBN10('X123456788'), 'X123456788'\n",
    "assert not valid_ISBN10('ABCDEFGHIJ'), 'ABCDEFGHIJ'\n",
    "assert not valid_ISBN10('XXXXXXXXXX'), 'XXXXXXXXXX'\n",
    "assert not valid_ISBN10('123456789T'), '123456789T'\n",
    "assert not valid_ISBN10('759X841818'), '759X841818'"
   ],
   "outputs": [],
   "execution_count": 32
  },
  {
   "metadata": {
    "ExecuteTime": {
     "end_time": "2024-05-27T03:44:20.354908Z",
     "start_time": "2024-05-27T03:44:20.348433Z"
    }
   },
   "cell_type": "code",
   "source": [
    "def solution(s):\n",
    "    result = []\n",
    "    is_odd = len(s) % 2 != 0\n",
    "\n",
    "    leftover = None\n",
    "    if is_odd:\n",
    "        leftover = f'{s[-1]}_'\n",
    "        s = s[:-1]\n",
    "\n",
    "    for i in range(0, len(s), 2):\n",
    "        result.append(f'{s[i]}{s[i + 1]}')\n",
    "\n",
    "    if leftover:\n",
    "        result.append(leftover)\n",
    "\n",
    "    return result\n",
    "\n",
    "\n",
    "tests = (\n",
    "    (\"asdfadsf\", ['as', 'df', 'ad', 'sf']),\n",
    "    (\"asdfads\", ['as', 'df', 'ad', 's_']),\n",
    "    (\"\", []),\n",
    "    (\"x\", [\"x_\"]),\n",
    ")\n",
    "\n",
    "for inp, exp in tests:\n",
    "    assert solution(inp) == exp, inp"
   ],
   "id": "71f1a3f2dd78dde7",
   "outputs": [],
   "execution_count": 40
  },
  {
   "metadata": {
    "ExecuteTime": {
     "end_time": "2024-05-28T11:53:31.900038Z",
     "start_time": "2024-05-28T11:53:31.886338Z"
    }
   },
   "cell_type": "code",
   "source": [
    "# nth_term_of_the_fibonacci_sequence = lambda x, s=5**.5: int(((s + 1) / 2) ** x / s + .5)\n",
    "nth_term_of_the_fibonacci_sequence = lambda x,s=5**.5: \n",
    "\n",
    "test_cases = [0, 1, 1, 2, 3, 5, 8, 13, 21, 34, 55, 89, 144, 233, 377, 610, 987, 1597, 2584, 4181]\n",
    "for n, v in enumerate(test_cases):\n",
    "    assert nth_term_of_the_fibonacci_sequence(n) == v, f'F({n}) = {v}'\n",
    "\n",
    "diff = nth_term_of_the_fibonacci_sequence(1000) - 43466557686937456435688527675040625802564660517371780402481729089536555417949051890403879840079255169295922593080322634775209689623239873322471161642996440906533187938298969649928516003704476137795166849228875\n",
    "\n",
    "print(diff)\n",
    "\n",
    "assert (nth_term_of_the_fibonacci_sequence(1000) == 43466557686937456435688527675040625802564660517371780402481729089536555417949051890403879840079255169295922593080322634775209689623239873322471161642996440906533187938298969649928516003704476137795166849228875)"
   ],
   "id": "86a8dfe21fd0703a",
   "outputs": [
    {
     "name": "stdout",
     "output_type": "stream",
     "text": [
      "1458426948972711714388208393728384353270730433527386575737502103487829891354220378202888504809432005808341223507287428599294920012652419808842405287863388974548400953559658955058385575296897097653\n"
     ]
    },
    {
     "ename": "AssertionError",
     "evalue": "",
     "output_type": "error",
     "traceback": [
      "\u001B[0;31m---------------------------------------------------------------------------\u001B[0m",
      "\u001B[0;31mAssertionError\u001B[0m                            Traceback (most recent call last)",
      "Cell \u001B[0;32mIn[51], line 11\u001B[0m\n\u001B[1;32m      7\u001B[0m diff \u001B[38;5;241m=\u001B[39m nth_term_of_the_fibonacci_sequence(\u001B[38;5;241m1000\u001B[39m) \u001B[38;5;241m-\u001B[39m \u001B[38;5;241m43466557686937456435688527675040625802564660517371780402481729089536555417949051890403879840079255169295922593080322634775209689623239873322471161642996440906533187938298969649928516003704476137795166849228875\u001B[39m\n\u001B[1;32m      9\u001B[0m \u001B[38;5;28mprint\u001B[39m(diff)\n\u001B[0;32m---> 11\u001B[0m \u001B[38;5;28;01massert\u001B[39;00m (nth_term_of_the_fibonacci_sequence(\u001B[38;5;241m1000\u001B[39m) \u001B[38;5;241m==\u001B[39m \u001B[38;5;241m43466557686937456435688527675040625802564660517371780402481729089536555417949051890403879840079255169295922593080322634775209689623239873322471161642996440906533187938298969649928516003704476137795166849228875\u001B[39m)\n",
      "\u001B[0;31mAssertionError\u001B[0m: "
     ]
    }
   ],
   "execution_count": 51
  }
 ],
 "metadata": {
  "kernelspec": {
   "display_name": "Python 3",
   "language": "python",
   "name": "python3"
  },
  "language_info": {
   "codemirror_mode": {
    "name": "ipython",
    "version": 2
   },
   "file_extension": ".py",
   "mimetype": "text/x-python",
   "name": "python",
   "nbconvert_exporter": "python",
   "pygments_lexer": "ipython2",
   "version": "2.7.6"
  }
 },
 "nbformat": 4,
 "nbformat_minor": 5
}
