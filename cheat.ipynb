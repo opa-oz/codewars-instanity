{
 "cells": [
  {
   "cell_type": "code",
   "id": "initial_id",
   "metadata": {
    "collapsed": true,
    "ExecuteTime": {
     "end_time": "2024-05-27T03:36:04.520198Z",
     "start_time": "2024-05-27T03:36:04.509690Z"
    }
   },
   "source": [
    "def valid_ISBN10(isbn):\n",
    "    if len(isbn) != 10:\n",
    "        return False\n",
    "    import re\n",
    "\n",
    "    m = re.match('^[0-9][0-9]{8}[0-9X]$', isbn)\n",
    "\n",
    "    if not m:\n",
    "        return False\n",
    "\n",
    "    agg = 0\n",
    "    for i in range(0, len(isbn)):\n",
    "        char = isbn[i]\n",
    "        if char == 'X':\n",
    "            char = '10'\n",
    "        agg += int(char, 10) * (i + 1)\n",
    "\n",
    "    return (agg % 11) == 0\n",
    "\n",
    "assert valid_ISBN10('1112223339'), '1112223339'\n",
    "assert valid_ISBN10('048665088X'), '048665088X'\n",
    "assert valid_ISBN10('1293000000'), '1293000000'\n",
    "assert valid_ISBN10('1234554321'), '1234554321'\n",
    "assert not valid_ISBN10('1234512345'), '1234512345'\n",
    "assert not valid_ISBN10('1293'), '1293'\n",
    "assert not valid_ISBN10('X123456788'), 'X123456788'\n",
    "assert not valid_ISBN10('ABCDEFGHIJ'), 'ABCDEFGHIJ'\n",
    "assert not valid_ISBN10('XXXXXXXXXX'), 'XXXXXXXXXX'\n",
    "assert not valid_ISBN10('123456789T'), '123456789T'\n",
    "assert not valid_ISBN10('759X841818'), '759X841818'"
   ],
   "outputs": [],
   "execution_count": 32
  }
 ],
 "metadata": {
  "kernelspec": {
   "display_name": "Python 3",
   "language": "python",
   "name": "python3"
  },
  "language_info": {
   "codemirror_mode": {
    "name": "ipython",
    "version": 2
   },
   "file_extension": ".py",
   "mimetype": "text/x-python",
   "name": "python",
   "nbconvert_exporter": "python",
   "pygments_lexer": "ipython2",
   "version": "2.7.6"
  }
 },
 "nbformat": 4,
 "nbformat_minor": 5
}
