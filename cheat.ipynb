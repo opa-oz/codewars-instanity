{
 "cells": [
  {
   "cell_type": "code",
   "id": "initial_id",
   "metadata": {
    "collapsed": true,
    "ExecuteTime": {
     "end_time": "2024-05-27T03:36:04.520198Z",
     "start_time": "2024-05-27T03:36:04.509690Z"
    }
   },
   "source": [
    "def valid_ISBN10(isbn):\n",
    "    if len(isbn) != 10:\n",
    "        return False\n",
    "    import re\n",
    "\n",
    "    m = re.match('^[0-9][0-9]{8}[0-9X]$', isbn)\n",
    "\n",
    "    if not m:\n",
    "        return False\n",
    "\n",
    "    agg = 0\n",
    "    for i in range(0, len(isbn)):\n",
    "        char = isbn[i]\n",
    "        if char == 'X':\n",
    "            char = '10'\n",
    "        agg += int(char, 10) * (i + 1)\n",
    "\n",
    "    return (agg % 11) == 0\n",
    "\n",
    "\n",
    "assert valid_ISBN10('1112223339'), '1112223339'\n",
    "assert valid_ISBN10('048665088X'), '048665088X'\n",
    "assert valid_ISBN10('1293000000'), '1293000000'\n",
    "assert valid_ISBN10('1234554321'), '1234554321'\n",
    "assert not valid_ISBN10('1234512345'), '1234512345'\n",
    "assert not valid_ISBN10('1293'), '1293'\n",
    "assert not valid_ISBN10('X123456788'), 'X123456788'\n",
    "assert not valid_ISBN10('ABCDEFGHIJ'), 'ABCDEFGHIJ'\n",
    "assert not valid_ISBN10('XXXXXXXXXX'), 'XXXXXXXXXX'\n",
    "assert not valid_ISBN10('123456789T'), '123456789T'\n",
    "assert not valid_ISBN10('759X841818'), '759X841818'"
   ],
   "outputs": [],
   "execution_count": 32
  },
  {
   "metadata": {
    "ExecuteTime": {
     "end_time": "2024-05-27T03:44:20.354908Z",
     "start_time": "2024-05-27T03:44:20.348433Z"
    }
   },
   "cell_type": "code",
   "source": [
    "def solution(s):\n",
    "    result = []\n",
    "    is_odd = len(s) % 2 != 0\n",
    "\n",
    "    leftover = None\n",
    "    if is_odd:\n",
    "        leftover = f'{s[-1]}_'\n",
    "        s = s[:-1]\n",
    "\n",
    "    for i in range(0, len(s), 2):\n",
    "        result.append(f'{s[i]}{s[i + 1]}')\n",
    "\n",
    "    if leftover:\n",
    "        result.append(leftover)\n",
    "\n",
    "    return result\n",
    "\n",
    "\n",
    "tests = (\n",
    "    (\"asdfadsf\", ['as', 'df', 'ad', 'sf']),\n",
    "    (\"asdfads\", ['as', 'df', 'ad', 's_']),\n",
    "    (\"\", []),\n",
    "    (\"x\", [\"x_\"]),\n",
    ")\n",
    "\n",
    "for inp, exp in tests:\n",
    "    assert solution(inp) == exp, inp"
   ],
   "id": "71f1a3f2dd78dde7",
   "outputs": [],
   "execution_count": 40
  },
  {
   "metadata": {
    "ExecuteTime": {
     "end_time": "2024-05-28T11:53:31.900038Z",
     "start_time": "2024-05-28T11:53:31.886338Z"
    }
   },
   "cell_type": "code",
   "source": [
    "# nth_term_of_the_fibonacci_sequence = lambda x, s=5**.5: int(((s + 1) / 2) ** x / s + .5)\n",
    "nth_term_of_the_fibonacci_sequence = lambda x, s=5 ** .5:\n",
    "\n",
    "test_cases = [0, 1, 1, 2, 3, 5, 8, 13, 21, 34, 55, 89, 144, 233, 377, 610, 987, 1597, 2584, 4181]\n",
    "for n, v in enumerate(test_cases):\n",
    "    assert nth_term_of_the_fibonacci_sequence(n) == v, f'F({n}) = {v}'\n",
    "\n",
    "diff = nth_term_of_the_fibonacci_sequence(\n",
    "    1000) - 43466557686937456435688527675040625802564660517371780402481729089536555417949051890403879840079255169295922593080322634775209689623239873322471161642996440906533187938298969649928516003704476137795166849228875\n",
    "\n",
    "print(diff)\n",
    "\n",
    "assert (nth_term_of_the_fibonacci_sequence(\n",
    "    1000) == 43466557686937456435688527675040625802564660517371780402481729089536555417949051890403879840079255169295922593080322634775209689623239873322471161642996440906533187938298969649928516003704476137795166849228875)"
   ],
   "id": "86a8dfe21fd0703a",
   "outputs": [
    {
     "name": "stdout",
     "output_type": "stream",
     "text": [
      "1458426948972711714388208393728384353270730433527386575737502103487829891354220378202888504809432005808341223507287428599294920012652419808842405287863388974548400953559658955058385575296897097653\n"
     ]
    },
    {
     "ename": "AssertionError",
     "evalue": "",
     "output_type": "error",
     "traceback": [
      "\u001B[0;31m---------------------------------------------------------------------------\u001B[0m",
      "\u001B[0;31mAssertionError\u001B[0m                            Traceback (most recent call last)",
      "Cell \u001B[0;32mIn[51], line 11\u001B[0m\n\u001B[1;32m      7\u001B[0m diff \u001B[38;5;241m=\u001B[39m nth_term_of_the_fibonacci_sequence(\u001B[38;5;241m1000\u001B[39m) \u001B[38;5;241m-\u001B[39m \u001B[38;5;241m43466557686937456435688527675040625802564660517371780402481729089536555417949051890403879840079255169295922593080322634775209689623239873322471161642996440906533187938298969649928516003704476137795166849228875\u001B[39m\n\u001B[1;32m      9\u001B[0m \u001B[38;5;28mprint\u001B[39m(diff)\n\u001B[0;32m---> 11\u001B[0m \u001B[38;5;28;01massert\u001B[39;00m (nth_term_of_the_fibonacci_sequence(\u001B[38;5;241m1000\u001B[39m) \u001B[38;5;241m==\u001B[39m \u001B[38;5;241m43466557686937456435688527675040625802564660517371780402481729089536555417949051890403879840079255169295922593080322634775209689623239873322471161642996440906533187938298969649928516003704476137795166849228875\u001B[39m)\n",
      "\u001B[0;31mAssertionError\u001B[0m: "
     ]
    }
   ],
   "execution_count": 51
  },
  {
   "metadata": {
    "ExecuteTime": {
     "end_time": "2024-06-03T02:24:05.827860Z",
     "start_time": "2024-06-03T02:24:05.822891Z"
    }
   },
   "cell_type": "code",
   "source": [
    "import re\n",
    "\n",
    "pattern = re.compile(r'^([1-2]?[0-9]{1,2}\\.){3}[1-2]?[0-9]{1,2}[^\\n]$', flags=re.S)\n",
    "\n",
    "re.match(pattern, \"127.0.0.1\\n\")"
   ],
   "id": "f5461fab46bb2252",
   "outputs": [],
   "execution_count": 16
  },
  {
   "metadata": {
    "ExecuteTime": {
     "end_time": "2024-06-04T10:21:27.877205Z",
     "start_time": "2024-06-04T10:21:27.856444Z"
    }
   },
   "cell_type": "code",
   "source": [
    "a = {\n",
    "    \"accept\": \"input\t\",\n",
    "    \"accept-charset\": \"form\t\",\n",
    "    \"action\": \"form\t\",\n",
    "    \"alt\": \"area, img, input\t\",\n",
    "    \"async\": \"script\t\",\n",
    "    \"autocomplete\": \"form, input\t\",\n",
    "    \"autofocus\": \"button, input, select, textarea\t\",\n",
    "    \"autoplay\": \"audio, video\t\",\n",
    "    \"charset\": \"meta, script\t\",\n",
    "    \"checked\": \"input\t\",\n",
    "    \"cite\": \"blockquote, del, ins, q\t\",\n",
    "    \"cols\": \"textarea\t\",\n",
    "    \"colspan\": \"td, th\t\",\n",
    "    \"content\": \"meta\t\",\n",
    "    \"controls\": \"audio, video\t\",\n",
    "    \"coords\": \"area\t\",\n",
    "    \"data\": \"object\t\",\n",
    "    \"datetime\": \"del, ins, time\t\",\n",
    "    \"default\": \"track\t\",\n",
    "    \"defer\": \"script\t\",\n",
    "    \"dirname\": \"input, textarea\t\",\n",
    "    \"disabled\": \"button, fieldset, input, optgroup, option, select, textarea\t\",\n",
    "    \"download\": \"a, area\t\",\n",
    "    \"enctype\": \"form\t\",\n",
    "    \"for\": \"label, output\t\",\n",
    "    \"form\": \"button, fieldset, input, label, meter, object, output, select, textarea\t\",\n",
    "    \"formaction\": \"button, input\t\",\n",
    "    \"headers\": \"td, th\t\",\n",
    "    \"height\": \"canvas, embed, iframe, img, input, object, video\t\",\n",
    "    \"high\": \"meter\t\",\n",
    "    \"href\": \"a, area, base, link\t\",\n",
    "    \"hreflang\": \"a, area, link\t\",\n",
    "    \"http-equiv\": \"meta\t\",\n",
    "    \"ismap\": \"img\t\",\n",
    "    \"kind\": \"track\t\",\n",
    "    \"label\": \"track, option, optgroup\t\",\n",
    "    \"list\": \"input\t\",\n",
    "    \"loop\": \"audio, video\t\",\n",
    "    \"low\": \"meter\t\",\n",
    "    \"max\": \"input, meter, progress\t\",\n",
    "    \"maxlength\": \"input, textarea\t\",\n",
    "    \"media\": \"a, area, link, source, style\t\",\n",
    "    \"method\": \"form\t\",\n",
    "    \"min\": \"input, meter\t\",\n",
    "    \"multiple\": \"input, select\t\",\n",
    "    \"muted\": \"video, audio\t\",\n",
    "    \"name\": \"button, fieldset, form, iframe, input, map, meta, object, output, param, select, textarea\t\",\n",
    "    \"novalidate\": \"form\t\",\n",
    "    \"onabort\": \"audio, embed, img, object, video\t\",\n",
    "    \"onafterprint\": \"body\t\",\n",
    "    \"onbeforeprint\": \"body\t\",\n",
    "    \"onbeforeunload\": \"body\t\",\n",
    "    \"onblur\": \"all\t\",\n",
    "    \"oncanplay\": \"audio, embed, object, video\t\",\n",
    "    \"oncanplaythrough\": \"audio, video\t\",\n",
    "    \"onchange\": \"all\t\",\n",
    "    \"onclick\": \"all\t\",\n",
    "    \"oncontextmenu\": \"all\t\",\n",
    "    \"oncopy\": \"all\t\",\n",
    "    \"oncuechange\": \"track\t\",\n",
    "    \"oncut\": \"all\t\",\n",
    "    \"ondblclick\": \"all\t\",\n",
    "    \"ondrag\": \"all\t\",\n",
    "    \"ondragend\": \"all\t\",\n",
    "    \"ondragenter\": \"all\t\",\n",
    "    \"ondragleave\": \"all\t\",\n",
    "    \"ondragover\": \"all\t\",\n",
    "    \"ondragstart\": \"all\t\",\n",
    "    \"ondrop\": \"all\t\",\n",
    "    \"ondurationchange\": \"audio, video\t\",\n",
    "    \"onemptied\": \"audio, video\t\",\n",
    "    \"onended\": \"audio, video\t\",\n",
    "    \"onerror\": \"audio, body, embed, img, object, script, style, video\t\",\n",
    "    \"onfocus\": \"all\t\",\n",
    "    \"onhashchange\": \"body\t\",\n",
    "    \"oninput\": \"all\t\",\n",
    "    \"oninvalid\": \"all\t\",\n",
    "    \"onkeydown\": \"all\t\",\n",
    "    \"onkeypress\": \"all\t\",\n",
    "    \"onkeyup\": \"all\t\",\n",
    "    \"onload\": \"body, iframe, img, input, link, script, style\t\",\n",
    "    \"onloadeddata\": \"audio, video\t\",\n",
    "    \"onloadedmetadata\": \"audio, video\t\",\n",
    "    \"onloadstart\": \"audio, video\t\",\n",
    "    \"onmousedown\": \"all\t\",\n",
    "    \"onmousemove\": \"all\t\",\n",
    "    \"onmouseout\": \"all\t\",\n",
    "    \"onmouseover\": \"all\t\",\n",
    "    \"onmouseup\": \"all\t\",\n",
    "    \"onmousewheel\": \"all\t\",\n",
    "    \"onoffline\": \"body\t\",\n",
    "    \"ononline\": \"body\t\",\n",
    "    \"onpagehide\": \"body\t\",\n",
    "    \"onpageshow\": \"body\t\",\n",
    "    \"onpaste\": \"all\t\",\n",
    "    \"onpause\": \"audio, video\t\",\n",
    "    \"onplay\": \"audio, video\t\",\n",
    "    \"onplaying\": \"audio, video\t\",\n",
    "    \"onpopstate\": \"body\t\",\n",
    "    \"onprogress\": \"audio, video\t\",\n",
    "    \"onratechange\": \"audio, video\t\",\n",
    "    \"onreset\": \"form\t\",\n",
    "    \"onresize\": \"body\t\",\n",
    "    \"onscroll\": \"all\t\",\n",
    "    \"onsearch\": \"input\t\",\n",
    "    \"onseeked\": \"audio, video\t\",\n",
    "    \"onseeking\": \"audio, video\t\",\n",
    "    \"onselect\": \"all\t\",\n",
    "    \"onstalled\": \"audio, video\t\",\n",
    "    \"onstorage\": \"body\t\",\n",
    "    \"onsubmit\": \"form\t\",\n",
    "    \"onsuspend\": \"audio, video\t\",\n",
    "    \"ontimeupdate\": \"audio, video\t\",\n",
    "    \"ontoggle\": \"details\t\",\n",
    "    \"onunload\": \"body\t\",\n",
    "    \"onvolumechange\": \"audio, video\t\",\n",
    "    \"onwaiting\": \"audio, video\t\",\n",
    "    \"onwheel\": \"all\t\",\n",
    "    \"open\": \"details\t\",\n",
    "    \"optimum\": \"meter\t\",\n",
    "    \"pattern\": \"input\t\",\n",
    "    \"placeholder\": \"input, textarea\t\",\n",
    "    \"popovertarget\": \"button, input\t\",\n",
    "    \"popovertargetaction\": \"button, input\t\",\n",
    "    \"poster\": \"video\t\",\n",
    "    \"preload\": \"audio, video\t\",\n",
    "    \"readonly\": \"input, textarea\t\",\n",
    "    \"rel\": \"a, area, form, link\t\",\n",
    "    \"required\": \"input, select, textarea\t\",\n",
    "    \"reversed\": \"ol\t\",\n",
    "    \"rows\": \"textarea\t\",\n",
    "    \"rowspan\": \"td, th\t\",\n",
    "    \"sandbox\": \"iframe\t\",\n",
    "    \"scope\": \"th\t\",\n",
    "    \"selected\": \"option\t\",\n",
    "    \"shape\": \"area\t\",\n",
    "    \"size\": \"input, select\t\",\n",
    "    \"sizes\": \"img, link, source\t\",\n",
    "    \"span\": \"col, colgroup\t\",\n",
    "    \"src\": \"audio, embed, iframe, img, input, script, source, track, video\t\",\n",
    "    \"srcdoc\": \"iframe\t\",\n",
    "    \"srclang\": \"track\t\",\n",
    "    \"srcset\": \"img, source\t\",\n",
    "    \"start\": \"ol\t\",\n",
    "    \"step\": \"input\t\",\n",
    "    \"target\": \"a, area, base, form\t\",\n",
    "    \"type\": \"a, button, embed, input, link, menu, object, script, source, style\t\",\n",
    "    \"usemap\": \"img, object\t\",\n",
    "    \"value\": \"button, input, li, option, meter, progress, param\t\",\n",
    "    \"width\": \"canvas, embed, iframe, img, input, object, video\t\",\n",
    "    \"wrap\": \"textarea\t\",\n",
    "}\n",
    "\n",
    "from collections import defaultdict\n",
    "\n",
    "tags = defaultdict(list)\n",
    "\n",
    "for key, value in a.items():\n",
    "    elements = value.strip().split(\", \")\n",
    "    for element in elements:\n",
    "        tags[element].append(key)\n",
    "\n",
    "import json\n",
    "\n",
    "with open('out.json', 'w') as f:\n",
    "    json.dump(tags, f, indent=4)"
   ],
   "id": "def811ca68b33239",
   "outputs": [],
   "execution_count": 3
  },
  {
   "metadata": {
    "ExecuteTime": {
     "end_time": "2024-06-09T12:10:04.501561Z",
     "start_time": "2024-06-09T12:10:04.496306Z"
    }
   },
   "cell_type": "code",
   "source": [
    "import re\n",
    "\n",
    "\n",
    "def digit_and_zeros(s):\n",
    "    return re.match(r\"[1-9]0+\", s) is not None\n",
    "\n",
    "\n",
    "digit_and_zeros(str(3))"
   ],
   "id": "439cd8ec59bcce8d",
   "outputs": [
    {
     "data": {
      "text/plain": [
       "False"
      ]
     },
     "execution_count": 4,
     "metadata": {},
     "output_type": "execute_result"
    }
   ],
   "execution_count": 4
  },
  {
   "metadata": {
    "ExecuteTime": {
     "end_time": "2024-06-17T05:45:33.311710Z",
     "start_time": "2024-06-17T05:45:33.295290Z"
    }
   },
   "cell_type": "code",
   "source": [
    "def middle_permutation(string):\n",
    "    chars = list(string)\n",
    "    chars.sort()\n",
    "    # chars = \"\".join(chars)\n",
    "\n",
    "    l = len(chars)\n",
    "\n",
    "    print(\"Input\", string, chars)\n",
    "    if l <= 2:\n",
    "        return \"\".join(chars)\n",
    "\n",
    "    if l % 2 == 0:\n",
    "        mid = int(l / 2 - 1)\n",
    "        print(\"mid even\", mid)\n",
    "        rest = chars[0:mid] + chars[mid + 1:]\n",
    "        res = chars[mid] + \"\".join(list(reversed(rest)))\n",
    "        print(\"Res\", res)\n",
    "        return res\n",
    "    else:\n",
    "        mid = int(l / 2)\n",
    "        print(\"mid odd\", mid)\n",
    "        rest = chars[0:mid] + chars[mid + 1:]\n",
    "        res = chars[mid] + middle_permutation(\"\".join(rest))\n",
    "        print(\"Res\", res)\n",
    "        return res\n",
    "\n",
    "\n",
    "assert middle_permutation(\"abc\") == \"bac\"\n",
    "assert middle_permutation(\"abcd\") == \"bdca\"\n",
    "assert middle_permutation(\"abcdx\") == \"cbxda\"\n",
    "assert middle_permutation(\"abcdxg\") == \"cxgdba\"\n",
    "assert middle_permutation(\"abcdxgz\") == \"dczxgba\"\n"
   ],
   "id": "42a47f0e0cf96f9e",
   "outputs": [
    {
     "name": "stdout",
     "output_type": "stream",
     "text": [
      "Input abc ['a', 'b', 'c']\n",
      "mid odd 1\n",
      "Input ac ['a', 'c']\n",
      "Res bac\n",
      "Input abcd ['a', 'b', 'c', 'd']\n",
      "mid even 1\n",
      "Res bdca\n",
      "Input abcdx ['a', 'b', 'c', 'd', 'x']\n",
      "mid odd 2\n",
      "Input abdx ['a', 'b', 'd', 'x']\n",
      "mid even 1\n",
      "Res bxda\n",
      "Res cbxda\n",
      "Input abcdxg ['a', 'b', 'c', 'd', 'g', 'x']\n",
      "mid even 2\n",
      "Res cxgdba\n",
      "Input abcdxgz ['a', 'b', 'c', 'd', 'g', 'x', 'z']\n",
      "mid odd 3\n",
      "Input abcgxz ['a', 'b', 'c', 'g', 'x', 'z']\n",
      "mid even 2\n",
      "Res czxgba\n",
      "Res dczxgba\n"
     ]
    }
   ],
   "execution_count": 14
  },
  {
   "metadata": {},
   "cell_type": "code",
   "outputs": [],
   "execution_count": null,
   "source": "",
   "id": "606acab3887dcf5e"
  }
 ],
 "metadata": {
  "kernelspec": {
   "display_name": "Python 3",
   "language": "python",
   "name": "python3"
  },
  "language_info": {
   "codemirror_mode": {
    "name": "ipython",
    "version": 2
   },
   "file_extension": ".py",
   "mimetype": "text/x-python",
   "name": "python",
   "nbconvert_exporter": "python",
   "pygments_lexer": "ipython2",
   "version": "2.7.6"
  }
 },
 "nbformat": 4,
 "nbformat_minor": 5
}
